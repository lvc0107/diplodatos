{
 "cells": [
  {
   "cell_type": "markdown",
   "metadata": {},
   "source": [
    "# Laboratorio 2: Armado de un esquema de aprendizaje automático\n",
    "\n",
    "En el laboratorio final se espera que puedan poner en práctica los conocimientos adquiridos en el curso, trabajando con un conjunto de datos de clasificación.\n",
    "\n",
    "El objetivo es que se introduzcan en el desarrollo de un esquema para hacer tareas de aprendizaje automático: selección de un modelo, ajuste de hiperparámetros y evaluación.\n",
    "\n",
    "El conjunto de datos a utilizar está en `./data/loan_data.csv`. Si abren el archivo verán que al principio (las líneas que empiezan con `#`) describen el conjunto de datos y sus atributos (incluyendo el atributo de etiqueta o clase).\n",
    "\n",
    "Se espera que hagan uso de las herramientas vistas en el curso. Se espera que hagan uso especialmente de las herramientas brindadas por `scikit-learn`."
   ]
  },
  {
   "cell_type": "code",
   "execution_count": 29,
   "metadata": {},
   "outputs": [],
   "source": [
    "import numpy as np\n",
    "import pandas as pd\n",
    "import matplotlib.pyplot as plt\n",
    "\n",
    "from sklearn.linear_model import SGDClassifier\n",
    "from sklearn.metrics import accuracy_score, classification_report, confusion_matrix\n",
    "from sklearn.model_selection import GridSearchCV, train_test_split\n",
    "\n",
    "from ml.visualization import plot_learning_curve\n",
    "\n",
    "np.random.seed(0)  # Para mayor determinismo\n"
   ]
  },
  {
   "cell_type": "code",
   "execution_count": 70,
   "metadata": {},
   "outputs": [],
   "source": [
    "import itertools\n",
    "def plot_confusion_matrix(cm, classes,\n",
    "                          normalize=False,\n",
    "                          title='Confusion matrix',\n",
    "                          cmap=plt.cm.Blues):\n",
    "    \"\"\"\n",
    "    This function prints and plots the confusion matrix.\n",
    "    Normalization can be applied by setting `normalize=True`.\n",
    "    \"\"\"\n",
    "    if normalize:\n",
    "        cm = cm.astype('float') / cm.sum(axis=1)[:, np.newaxis]\n",
    "\n",
    "    plt.imshow(cm, interpolation='nearest', cmap=cmap)\n",
    "    plt.title(title)\n",
    "    plt.colorbar()\n",
    "    tick_marks = np.arange(len(classes))\n",
    "    plt.xticks(tick_marks, classes, rotation=45)\n",
    "    #plt.yticks(tick_marks, classes)\n",
    "    fmt = '.2f' if normalize else 'd'\n",
    "    thresh = cm.max() / 2.\n",
    "    for i, j in itertools.product(range(cm.shape[0]), range(cm.shape[1])):\n",
    "        plt.text(j, i, format(cm[i, j], fmt),\n",
    "                 horizontalalignment=\"center\",\n",
    "                 color=\"white\" if cm[i, j] > thresh else \"black\")\n",
    "    plt.tight_layout()\n",
    "    plt.ylabel('Etiqueta correcta')\n",
    "    plt.xlabel('Etiqueta predicha')"
   ]
  },
  {
   "cell_type": "markdown",
   "metadata": {},
   "source": [
    "## Carga de datos y división en entrenamiento y evaluación\n",
    "\n",
    "La celda siguiente se encarga de la carga de datos (haciendo uso de pandas). Estos serán los que se trabajarán en el resto del laboratorio."
   ]
  },
  {
   "cell_type": "code",
   "execution_count": 71,
   "metadata": {},
   "outputs": [
    {
     "data": {
      "text/plain": [
       "(1854, 11)"
      ]
     },
     "execution_count": 71,
     "metadata": {},
     "output_type": "execute_result"
    }
   ],
   "source": [
    "dataset = pd.read_csv(\"./data/loan_data.csv\", comment=\"#\")\n",
    "dataset.shape"
   ]
  },
  {
   "cell_type": "code",
   "execution_count": 72,
   "metadata": {},
   "outputs": [
    {
     "data": {
      "text/html": [
       "<div>\n",
       "<style scoped>\n",
       "    .dataframe tbody tr th:only-of-type {\n",
       "        vertical-align: middle;\n",
       "    }\n",
       "\n",
       "    .dataframe tbody tr th {\n",
       "        vertical-align: top;\n",
       "    }\n",
       "\n",
       "    .dataframe thead th {\n",
       "        text-align: right;\n",
       "    }\n",
       "</style>\n",
       "<table border=\"1\" class=\"dataframe\">\n",
       "  <thead>\n",
       "    <tr style=\"text-align: right;\">\n",
       "      <th></th>\n",
       "      <th>TARGET</th>\n",
       "      <th>LOAN</th>\n",
       "      <th>MORTDUE</th>\n",
       "      <th>VALUE</th>\n",
       "      <th>YOJ</th>\n",
       "      <th>DEROG</th>\n",
       "      <th>DELINQ</th>\n",
       "      <th>CLAGE</th>\n",
       "      <th>NINQ</th>\n",
       "      <th>CLNO</th>\n",
       "      <th>DEBTINC</th>\n",
       "    </tr>\n",
       "  </thead>\n",
       "  <tbody>\n",
       "    <tr>\n",
       "      <th>0</th>\n",
       "      <td>0</td>\n",
       "      <td>4700</td>\n",
       "      <td>88026.0</td>\n",
       "      <td>115506.0</td>\n",
       "      <td>6.0</td>\n",
       "      <td>0.0</td>\n",
       "      <td>0.0</td>\n",
       "      <td>182.248332</td>\n",
       "      <td>0.0</td>\n",
       "      <td>27.0</td>\n",
       "      <td>29.209023</td>\n",
       "    </tr>\n",
       "    <tr>\n",
       "      <th>1</th>\n",
       "      <td>0</td>\n",
       "      <td>19300</td>\n",
       "      <td>39926.0</td>\n",
       "      <td>101208.0</td>\n",
       "      <td>4.0</td>\n",
       "      <td>0.0</td>\n",
       "      <td>0.0</td>\n",
       "      <td>140.051638</td>\n",
       "      <td>0.0</td>\n",
       "      <td>14.0</td>\n",
       "      <td>31.545694</td>\n",
       "    </tr>\n",
       "    <tr>\n",
       "      <th>2</th>\n",
       "      <td>0</td>\n",
       "      <td>5700</td>\n",
       "      <td>71556.0</td>\n",
       "      <td>79538.0</td>\n",
       "      <td>2.0</td>\n",
       "      <td>0.0</td>\n",
       "      <td>0.0</td>\n",
       "      <td>92.643085</td>\n",
       "      <td>0.0</td>\n",
       "      <td>15.0</td>\n",
       "      <td>41.210012</td>\n",
       "    </tr>\n",
       "    <tr>\n",
       "      <th>3</th>\n",
       "      <td>0</td>\n",
       "      <td>13000</td>\n",
       "      <td>44875.0</td>\n",
       "      <td>57713.0</td>\n",
       "      <td>0.0</td>\n",
       "      <td>1.0</td>\n",
       "      <td>0.0</td>\n",
       "      <td>184.990324</td>\n",
       "      <td>1.0</td>\n",
       "      <td>12.0</td>\n",
       "      <td>28.602076</td>\n",
       "    </tr>\n",
       "    <tr>\n",
       "      <th>4</th>\n",
       "      <td>0</td>\n",
       "      <td>19300</td>\n",
       "      <td>72752.0</td>\n",
       "      <td>106084.0</td>\n",
       "      <td>11.0</td>\n",
       "      <td>0.0</td>\n",
       "      <td>0.0</td>\n",
       "      <td>193.707100</td>\n",
       "      <td>1.0</td>\n",
       "      <td>13.0</td>\n",
       "      <td>30.686106</td>\n",
       "    </tr>\n",
       "  </tbody>\n",
       "</table>\n",
       "</div>"
      ],
      "text/plain": [
       "   TARGET   LOAN  MORTDUE     VALUE   YOJ  DEROG  DELINQ       CLAGE  NINQ  \\\n",
       "0       0   4700  88026.0  115506.0   6.0    0.0     0.0  182.248332   0.0   \n",
       "1       0  19300  39926.0  101208.0   4.0    0.0     0.0  140.051638   0.0   \n",
       "2       0   5700  71556.0   79538.0   2.0    0.0     0.0   92.643085   0.0   \n",
       "3       0  13000  44875.0   57713.0   0.0    1.0     0.0  184.990324   1.0   \n",
       "4       0  19300  72752.0  106084.0  11.0    0.0     0.0  193.707100   1.0   \n",
       "\n",
       "   CLNO    DEBTINC  \n",
       "0  27.0  29.209023  \n",
       "1  14.0  31.545694  \n",
       "2  15.0  41.210012  \n",
       "3  12.0  28.602076  \n",
       "4  13.0  30.686106  "
      ]
     },
     "execution_count": 72,
     "metadata": {},
     "output_type": "execute_result"
    }
   ],
   "source": [
    "dataset.head()"
   ]
  },
  {
   "cell_type": "code",
   "execution_count": 73,
   "metadata": {},
   "outputs": [
    {
     "data": {
      "text/plain": [
       "(309, 11)"
      ]
     },
     "execution_count": 73,
     "metadata": {},
     "output_type": "execute_result"
    }
   ],
   "source": [
    "dataset[dataset['TARGET'] == 1].shape\n"
   ]
  },
  {
   "cell_type": "code",
   "execution_count": 74,
   "metadata": {},
   "outputs": [
    {
     "data": {
      "text/plain": [
       "(1545, 11)"
      ]
     },
     "execution_count": 74,
     "metadata": {},
     "output_type": "execute_result"
    }
   ],
   "source": [
    "dataset[dataset['TARGET'] == 0].shape\n"
   ]
  },
  {
   "cell_type": "code",
   "execution_count": 75,
   "metadata": {},
   "outputs": [],
   "source": [
    "# División entre instancias y etiquetas\n",
    "X, y = dataset.iloc[:, 1:], dataset.TARGET\n",
    "\n",
    "# división entre entrenamiento y evaluación\n",
    "# test_zize = 0.2 es el 20% de los datos reservados para test\n",
    "X_train, X_test, y_train, y_test = train_test_split(X, y, test_size=0.2, random_state=0)"
   ]
  },
  {
   "cell_type": "markdown",
   "metadata": {},
   "source": [
    "\n",
    "Documentación:\n",
    "\n",
    "- https://scikit-learn.org/stable/modules/generated/sklearn.model_selection.train_test_split.html"
   ]
  },
  {
   "cell_type": "markdown",
   "metadata": {},
   "source": [
    "## Ejercicio 1: Descripción de los Datos y la Tarea\n",
    "\n",
    "Responder las siguientes preguntas:\n",
    "\n"
   ]
  },
  {
   "cell_type": "markdown",
   "metadata": {},
   "source": [
    "1. ¿De qué se trata el conjunto de datos?\n"
   ]
  },
  {
   "cell_type": "markdown",
   "metadata": {},
   "source": [
    "El dataset contiene datos de solicitudes de creditos para un determinada entidad bancaria.\n",
    "El objetivo es predicir/automatizar la decisión sobre si una solicitud futura debe ser aceptada o rechazada."
   ]
  },
  {
   "cell_type": "markdown",
   "metadata": {},
   "source": [
    "2. ¿Cuál es la variable objetivo que hay que predecir? ¿Qué significado tiene?\n"
   ]
  },
  {
   "cell_type": "markdown",
   "metadata": {},
   "source": [
    "El feature TARGET, que toma valores 1 o 0  en los siguientes casos:\n",
    "\n",
    "1 = el cliente incumplió con el préstamo   \n",
    "0 = el préstamo se pagó"
   ]
  },
  {
   "cell_type": "markdown",
   "metadata": {},
   "source": [
    "3. ¿Qué información (atributos) hay disponible para hacer la predicción?\n"
   ]
  },
  {
   "cell_type": "markdown",
   "metadata": {},
   "source": [
    " Ademas del feature TARGET contamos con los siguientes datos:  \n",
    " \n",
    " \n",
    "     LOAN:    Cantidad de dinero solicitado.   \n",
    "     MORTDUE: Monto a pagar de la hipoteca existente.     \n",
    "     VALUE:   Valor de la propiedad actual.     \n",
    "     YOJ:     Años de antiguedad en el trabajo actual.    \n",
    "     DEROG:   Número de informes derogados principales.     \n",
    "     DELINQ:   Número de líneas de crédito morosas.     \n",
    "     CLAGE:   Edad de la línea comercial más antigua en meses.\n",
    "     NINQ:    Número de líneas de crédito recientes    \n",
    "     CLNO:    Número de líneas de crédito     \n",
    "     DEBTINC: Relación deuda / ingresos.  \n",
    " "
   ]
  },
  {
   "cell_type": "markdown",
   "metadata": {},
   "source": [
    "4. ¿Qué atributos imagina ud. que son los más determinantes para la predicción?\n"
   ]
  },
  {
   "cell_type": "markdown",
   "metadata": {},
   "source": [
    "LOAN: El monto solicitado es determinante, pues deben haber rangos de creditos dependiendo de las condiciones que cumple el solicitante.     \n",
    "\n",
    "DEBTINC: Es crucial saber si el solicitante tiene capacidad para afrontar el pago de las cuotas del credito.    \n",
    "\n",
    "MORTDUEL Parece ser un feature importante, creo que indica el monto restante a pagar para prestamos activos.  "
   ]
  },
  {
   "cell_type": "markdown",
   "metadata": {},
   "source": [
    "## Ejercicio 2: Predicción con Modelos Lineales\n",
    "\n",
    "En este ejercicio se entrenarán modelos lineales de clasificación para predecir la variable objetivo.\n",
    "\n",
    "Para ello, deberán utilizar la clase SGDClassifier de scikit-learn.\n",
    "\n",
    "Documentación:\n",
    "- https://scikit-learn.org/stable/modules/sgd.html\n",
    "- https://scikit-learn.org/stable/modules/generated/sklearn.linear_model.SGDClassifier.html\n"
   ]
  },
  {
   "cell_type": "markdown",
   "metadata": {},
   "source": [
    "### Ejercicio 2.1: SGDClassifier con hiperparámetros por defecto\n",
    "\n",
    "Entrenar y evaluar el clasificador SGDClassifier usando los valores por omisión de scikit-learn para todos los parámetros. Únicamente **fijar la semilla aleatoria** para hacer repetible el experimento.\n",
    "\n",
    "Evaluar sobre el conjunto de **entrenamiento** y sobre el conjunto de **evaluación**, reportando:\n",
    "- Accuracy\n",
    "- Precision\n",
    "- Recall\n",
    "- F1\n",
    "- matriz de confusión"
   ]
  },
  {
   "cell_type": "code",
   "execution_count": 76,
   "metadata": {},
   "outputs": [
    {
     "data": {
      "text/plain": [
       "SGDClassifier(alpha=0.0001, average=False, class_weight=None,\n",
       "              early_stopping=False, epsilon=0.1, eta0=0.0, fit_intercept=True,\n",
       "              l1_ratio=0.15, learning_rate='optimal', loss='hinge',\n",
       "              max_iter=1000, n_iter_no_change=5, n_jobs=None, penalty='l2',\n",
       "              power_t=0.5, random_state=42, shuffle=True, tol=0.001,\n",
       "              validation_fraction=0.1, verbose=0, warm_start=False)"
      ]
     },
     "execution_count": 76,
     "metadata": {},
     "output_type": "execute_result"
    }
   ],
   "source": [
    "m = SGDClassifier(random_state=42)\n",
    "m.fit(X_train, y_train)\n"
   ]
  },
  {
   "cell_type": "code",
   "execution_count": 77,
   "metadata": {},
   "outputs": [
    {
     "name": "stdout",
     "output_type": "stream",
     "text": [
      "Reporte de clasificación para el mejor clasificador (sobre conjunto de evaluación):\n",
      "\n",
      "              precision    recall  f1-score   support\n",
      "\n",
      "           0       0.84      1.00      0.92       313\n",
      "           1       0.00      0.00      0.00        58\n",
      "\n",
      "    accuracy                           0.84       371\n",
      "   macro avg       0.42      0.50      0.46       371\n",
      "weighted avg       0.71      0.84      0.77       371\n",
      "\n",
      "\n"
     ]
    },
    {
     "name": "stderr",
     "output_type": "stream",
     "text": [
      "/Users/luisvargas/code/migue/github/diplo/2019/diplo_venv/lib/python3.7/site-packages/sklearn/metrics/classification.py:1437: UndefinedMetricWarning: Precision and F-score are ill-defined and being set to 0.0 in labels with no predicted samples.\n",
      "  'precision', 'predicted', average, warn_for)\n"
     ]
    }
   ],
   "source": [
    "print(\"Reporte de clasificación para el mejor clasificador (sobre conjunto de evaluación):\", end=\"\\n\\n\")\n",
    "y_true, y_pred = y_test, m.predict(X_test)\n",
    "print(classification_report(y_true, y_pred), end=\"\\n\\n\")"
   ]
  },
  {
   "cell_type": "code",
   "execution_count": 78,
   "metadata": {},
   "outputs": [
    {
     "data": {
      "image/png": "[encoded data removed]",
      "text/plain": [
       "<Figure size 1120x320 with 2 Axes>"
      ]
     },
     "metadata": {},
     "output_type": "display_data"
    }
   ],
   "source": [
    "plt.figure(figsize=(14, 4), dpi=80, facecolor='w', edgecolor='k')\n",
    "plot_confusion_matrix(confusion_matrix(y_true, y_pred), classes=[0,1], title=\"Matriz de confusión para SVM\")"
   ]
  },
  {
   "cell_type": "markdown",
   "metadata": {},
   "source": [
    "Sin ajuste de hiperparámetros se evidencia que el clasificador lineal de SGD usando SVM como funcion de costo, no ajusta bien para los casos en que TARGET es 1. De hecho el se clasifican a todos los casos 1 como 0."
   ]
  },
  {
   "cell_type": "code",
   "execution_count": 79,
   "metadata": {},
   "outputs": [
    {
     "data": {
      "text/html": [
       "<div>\n",
       "<style scoped>\n",
       "    .dataframe tbody tr th:only-of-type {\n",
       "        vertical-align: middle;\n",
       "    }\n",
       "\n",
       "    .dataframe tbody tr th {\n",
       "        vertical-align: top;\n",
       "    }\n",
       "\n",
       "    .dataframe thead th {\n",
       "        text-align: right;\n",
       "    }\n",
       "</style>\n",
       "<table border=\"1\" class=\"dataframe\">\n",
       "  <thead>\n",
       "    <tr style=\"text-align: right;\">\n",
       "      <th></th>\n",
       "      <th>LOAN</th>\n",
       "      <th>MORTDUE</th>\n",
       "      <th>VALUE</th>\n",
       "      <th>YOJ</th>\n",
       "      <th>DEROG</th>\n",
       "      <th>DELINQ</th>\n",
       "      <th>CLAGE</th>\n",
       "      <th>NINQ</th>\n",
       "      <th>CLNO</th>\n",
       "      <th>DEBTINC</th>\n",
       "    </tr>\n",
       "  </thead>\n",
       "  <tbody>\n",
       "    <tr>\n",
       "      <th>1240</th>\n",
       "      <td>9400</td>\n",
       "      <td>92340.0</td>\n",
       "      <td>125451.0</td>\n",
       "      <td>7.0</td>\n",
       "      <td>0.0</td>\n",
       "      <td>0.0</td>\n",
       "      <td>129.113725</td>\n",
       "      <td>1.0</td>\n",
       "      <td>22.0</td>\n",
       "      <td>36.349975</td>\n",
       "    </tr>\n",
       "    <tr>\n",
       "      <th>1183</th>\n",
       "      <td>14800</td>\n",
       "      <td>43983.0</td>\n",
       "      <td>60826.0</td>\n",
       "      <td>4.0</td>\n",
       "      <td>1.0</td>\n",
       "      <td>1.0</td>\n",
       "      <td>113.897967</td>\n",
       "      <td>1.0</td>\n",
       "      <td>9.0</td>\n",
       "      <td>27.108082</td>\n",
       "    </tr>\n",
       "    <tr>\n",
       "      <th>692</th>\n",
       "      <td>20100</td>\n",
       "      <td>59726.0</td>\n",
       "      <td>79982.0</td>\n",
       "      <td>8.0</td>\n",
       "      <td>1.0</td>\n",
       "      <td>0.0</td>\n",
       "      <td>74.210759</td>\n",
       "      <td>2.0</td>\n",
       "      <td>28.0</td>\n",
       "      <td>36.846922</td>\n",
       "    </tr>\n",
       "    <tr>\n",
       "      <th>871</th>\n",
       "      <td>25200</td>\n",
       "      <td>73168.0</td>\n",
       "      <td>93608.0</td>\n",
       "      <td>9.0</td>\n",
       "      <td>0.0</td>\n",
       "      <td>0.0</td>\n",
       "      <td>151.121480</td>\n",
       "      <td>0.0</td>\n",
       "      <td>21.0</td>\n",
       "      <td>35.590327</td>\n",
       "    </tr>\n",
       "    <tr>\n",
       "      <th>1353</th>\n",
       "      <td>17000</td>\n",
       "      <td>70039.0</td>\n",
       "      <td>100993.0</td>\n",
       "      <td>7.0</td>\n",
       "      <td>0.0</td>\n",
       "      <td>0.0</td>\n",
       "      <td>261.911317</td>\n",
       "      <td>1.0</td>\n",
       "      <td>11.0</td>\n",
       "      <td>36.564330</td>\n",
       "    </tr>\n",
       "  </tbody>\n",
       "</table>\n",
       "</div>"
      ],
      "text/plain": [
       "       LOAN  MORTDUE     VALUE  YOJ  DEROG  DELINQ       CLAGE  NINQ  CLNO  \\\n",
       "1240   9400  92340.0  125451.0  7.0    0.0     0.0  129.113725   1.0  22.0   \n",
       "1183  14800  43983.0   60826.0  4.0    1.0     1.0  113.897967   1.0   9.0   \n",
       "692   20100  59726.0   79982.0  8.0    1.0     0.0   74.210759   2.0  28.0   \n",
       "871   25200  73168.0   93608.0  9.0    0.0     0.0  151.121480   0.0  21.0   \n",
       "1353  17000  70039.0  100993.0  7.0    0.0     0.0  261.911317   1.0  11.0   \n",
       "\n",
       "        DEBTINC  \n",
       "1240  36.349975  \n",
       "1183  27.108082  \n",
       "692   36.846922  \n",
       "871   35.590327  \n",
       "1353  36.564330  "
      ]
     },
     "execution_count": 79,
     "metadata": {},
     "output_type": "execute_result"
    }
   ],
   "source": [
    "X_train.head()"
   ]
  },
  {
   "cell_type": "markdown",
   "metadata": {},
   "source": [
    "### Ejercicio 2.2: Ajuste de Hiperparámetros\n",
    "\n",
    "Seleccionar valores para los hiperparámetros principales del SGDClassifier. Como mínimo, probar diferentes funciones de loss, tasas de entrenamiento y tasas de regularización.\n",
    "\n",
    "Para ello, usar grid-search y 5-fold cross-validation sobre el conjunto de entrenamiento para explorar muchas combinaciones posibles de valores.\n",
    "\n",
    "Reportar accuracy promedio y varianza para todas las configuraciones.\n",
    "\n",
    "Para la mejor configuración encontrada, evaluar sobre el conjunto de **entrenamiento** y sobre el conjunto de **evaluación**, reportando:\n",
    "- Accuracy\n",
    "- Precision\n",
    "- Recall\n",
    "- F1\n",
    "- matriz de confusión\n",
    "\n",
    "Documentación:\n",
    "- https://scikit-learn.org/stable/modules/grid_search.html\n",
    "- https://scikit-learn.org/stable/modules/generated/sklearn.model_selection.GridSearchCV.html"
   ]
  },
  {
   "cell_type": "code",
   "execution_count": 80,
   "metadata": {},
   "outputs": [
    {
     "name": "stderr",
     "output_type": "stream",
     "text": [
      "/Users/luisvargas/code/migue/github/diplo/2019/diplo_venv/lib/python3.7/site-packages/sklearn/model_selection/_search.py:813: DeprecationWarning: The default of the `iid` parameter will change from True to False in version 0.22 and will be removed in 0.24. This will change numeric results when test-set sizes are unequal.\n",
      "  DeprecationWarning)\n"
     ]
    },
    {
     "name": "stdout",
     "output_type": "stream",
     "text": [
      "# Exploración de hiperparámetros para función de coste \"hinge\"\n",
      "\n",
      "Mejor conjunto de parámetros:\n",
      "{'alpha': 0.1, 'eta0': 0.01, 'learning_rate': 'constant'}\n",
      "\n",
      "Puntajes de la grilla:\n",
      "\n",
      "Exactitud: 0.694 (+/-0.069) para los parámetros {'alpha': 0.1, 'eta0': 0.1, 'learning_rate': 'constant'}\n",
      "Exactitud: 0.830 (+/-0.000) para los parámetros {'alpha': 0.1, 'eta0': 0.01, 'learning_rate': 'constant'}\n",
      "Exactitud: 0.567 (+/-0.104) para los parámetros {'alpha': 0.1, 'eta0': 0.001, 'learning_rate': 'constant'}\n",
      "Exactitud: 0.699 (+/-0.070) para los parámetros {'alpha': 0.01, 'eta0': 0.1, 'learning_rate': 'constant'}\n",
      "Exactitud: 0.696 (+/-0.069) para los parámetros {'alpha': 0.01, 'eta0': 0.01, 'learning_rate': 'constant'}\n",
      "Exactitud: 0.541 (+/-0.094) para los parámetros {'alpha': 0.01, 'eta0': 0.001, 'learning_rate': 'constant'}\n",
      "Exactitud: 0.683 (+/-0.066) para los parámetros {'alpha': 0.001, 'eta0': 0.1, 'learning_rate': 'constant'}\n",
      "Exactitud: 0.695 (+/-0.069) para los parámetros {'alpha': 0.001, 'eta0': 0.01, 'learning_rate': 'constant'}\n",
      "Exactitud: 0.825 (+/-0.000) para los parámetros {'alpha': 0.001, 'eta0': 0.001, 'learning_rate': 'constant'}\n",
      "\n",
      "Reporte de clasificación para el mejor clasificador (sobre conjunto de evaluación):\n",
      "\n",
      "              precision    recall  f1-score   support\n",
      "\n",
      "           0       0.50      0.00      0.01       313\n",
      "           1       0.15      0.98      0.27        58\n",
      "\n",
      "    accuracy                           0.16       371\n",
      "   macro avg       0.33      0.49      0.14       371\n",
      "weighted avg       0.45      0.16      0.05       371\n",
      "\n",
      "\n",
      "================================================\n",
      "\n"
     ]
    },
    {
     "name": "stderr",
     "output_type": "stream",
     "text": [
      "/Users/luisvargas/code/migue/github/diplo/2019/diplo_venv/lib/python3.7/site-packages/sklearn/model_selection/_search.py:813: DeprecationWarning: The default of the `iid` parameter will change from True to False in version 0.22 and will be removed in 0.24. This will change numeric results when test-set sizes are unequal.\n",
      "  DeprecationWarning)\n"
     ]
    },
    {
     "name": "stdout",
     "output_type": "stream",
     "text": [
      "# Exploración de hiperparámetros para función de coste \"log\"\n",
      "\n",
      "Mejor conjunto de parámetros:\n",
      "{'alpha': 0.01, 'eta0': 0.001, 'learning_rate': 'constant'}\n",
      "\n",
      "Puntajes de la grilla:\n",
      "\n",
      "Exactitud: 0.766 (+/-0.017) para los parámetros {'alpha': 0.1, 'eta0': 0.1, 'learning_rate': 'constant'}\n",
      "Exactitud: 0.827 (+/-0.000) para los parámetros {'alpha': 0.1, 'eta0': 0.01, 'learning_rate': 'constant'}\n",
      "Exactitud: 0.701 (+/-0.068) para los parámetros {'alpha': 0.1, 'eta0': 0.001, 'learning_rate': 'constant'}\n",
      "Exactitud: 0.799 (+/-0.004) para los parámetros {'alpha': 0.01, 'eta0': 0.1, 'learning_rate': 'constant'}\n",
      "Exactitud: 0.560 (+/-0.102) para los parámetros {'alpha': 0.01, 'eta0': 0.01, 'learning_rate': 'constant'}\n",
      "Exactitud: 0.831 (+/-0.000) para los parámetros {'alpha': 0.01, 'eta0': 0.001, 'learning_rate': 'constant'}\n",
      "Exactitud: 0.765 (+/-0.016) para los parámetros {'alpha': 0.001, 'eta0': 0.1, 'learning_rate': 'constant'}\n",
      "Exactitud: 0.699 (+/-0.069) para los parámetros {'alpha': 0.001, 'eta0': 0.01, 'learning_rate': 'constant'}\n",
      "Exactitud: 0.564 (+/-0.098) para los parámetros {'alpha': 0.001, 'eta0': 0.001, 'learning_rate': 'constant'}\n",
      "\n",
      "Reporte de clasificación para el mejor clasificador (sobre conjunto de evaluación):\n",
      "\n",
      "              precision    recall  f1-score   support\n",
      "\n",
      "           0       0.84      1.00      0.91       313\n",
      "           1       0.00      0.00      0.00        58\n",
      "\n",
      "    accuracy                           0.84       371\n",
      "   macro avg       0.42      0.50      0.46       371\n",
      "weighted avg       0.71      0.84      0.77       371\n",
      "\n",
      "\n",
      "================================================\n",
      "\n"
     ]
    },
    {
     "name": "stderr",
     "output_type": "stream",
     "text": [
      "/Users/luisvargas/code/migue/github/diplo/2019/diplo_venv/lib/python3.7/site-packages/sklearn/model_selection/_search.py:813: DeprecationWarning: The default of the `iid` parameter will change from True to False in version 0.22 and will be removed in 0.24. This will change numeric results when test-set sizes are unequal.\n",
      "  DeprecationWarning)\n"
     ]
    },
    {
     "name": "stdout",
     "output_type": "stream",
     "text": [
      "# Exploración de hiperparámetros para función de coste \"perceptron\"\n",
      "\n",
      "Mejor conjunto de parámetros:\n",
      "{'alpha': 0.1, 'eta0': 0.01, 'learning_rate': 'constant'}\n",
      "\n",
      "Puntajes de la grilla:\n",
      "\n",
      "Exactitud: 0.824 (+/-0.000) para los parámetros {'alpha': 0.1, 'eta0': 0.1, 'learning_rate': 'constant'}\n",
      "Exactitud: 0.829 (+/-0.000) para los parámetros {'alpha': 0.1, 'eta0': 0.01, 'learning_rate': 'constant'}\n",
      "Exactitud: 0.702 (+/-0.053) para los parámetros {'alpha': 0.1, 'eta0': 0.001, 'learning_rate': 'constant'}\n",
      "Exactitud: 0.670 (+/-0.066) para los parámetros {'alpha': 0.01, 'eta0': 0.1, 'learning_rate': 'constant'}\n",
      "Exactitud: 0.682 (+/-0.066) para los parámetros {'alpha': 0.01, 'eta0': 0.01, 'learning_rate': 'constant'}\n",
      "Exactitud: 0.827 (+/-0.000) para los parámetros {'alpha': 0.01, 'eta0': 0.001, 'learning_rate': 'constant'}\n",
      "Exactitud: 0.564 (+/-0.095) para los parámetros {'alpha': 0.001, 'eta0': 0.1, 'learning_rate': 'constant'}\n",
      "Exactitud: 0.710 (+/-0.058) para los parámetros {'alpha': 0.001, 'eta0': 0.01, 'learning_rate': 'constant'}\n",
      "Exactitud: 0.827 (+/-0.000) para los parámetros {'alpha': 0.001, 'eta0': 0.001, 'learning_rate': 'constant'}\n",
      "\n",
      "Reporte de clasificación para el mejor clasificador (sobre conjunto de evaluación):\n",
      "\n",
      "              precision    recall  f1-score   support\n",
      "\n",
      "           0       0.83      0.02      0.03       313\n",
      "           1       0.16      0.98      0.27        58\n",
      "\n",
      "    accuracy                           0.17       371\n",
      "   macro avg       0.49      0.50      0.15       371\n",
      "weighted avg       0.73      0.17      0.07       371\n",
      "\n",
      "\n",
      "================================================\n",
      "\n"
     ]
    },
    {
     "data": {
      "image/png": "[encoded data removed]",
      "text/plain": [
       "<Figure size 1120x320 with 6 Axes>"
      ]
     },
     "metadata": {},
     "output_type": "display_data"
    }
   ],
   "source": [
    "plt.figure(figsize=(14, 4), dpi= 80, facecolor='w', edgecolor='k')\n",
    "\n",
    "for idx, loss in enumerate(('hinge', 'log', 'perceptron'), start=1):\n",
    "    exploring_params = {\n",
    "        'learning_rate': ['constant'],\n",
    "        'eta0': [0.1, 0.01, 0.001],  # Tasa de entrenamiento\n",
    "        'alpha': [0.1, 0.01, 0.001]  # Tasa de regularización\n",
    "    }\n",
    "    cl = SGDClassifier(loss=loss, tol=1e-3)\n",
    "    model = GridSearchCV(cl, exploring_params, cv=5, scoring='accuracy')\n",
    "    model.fit(X_train, y_train)\n",
    "    \n",
    "    print(\"# Exploración de hiperparámetros para función de coste \\\"%s\\\"\" % loss, end=\"\\n\\n\")\n",
    "    \n",
    "    print(\"Mejor conjunto de parámetros:\")\n",
    "    print(model.best_params_, end=\"\\n\\n\")\n",
    "\n",
    "    print(\"Puntajes de la grilla:\", end=\"\\n\\n\")\n",
    "    means = model.cv_results_['mean_test_score']\n",
    "    stds = model.cv_results_['std_test_score']\n",
    "    for mean, std, params in zip(means, stds, model.cv_results_['params']):\n",
    "        print(\"Exactitud: %0.3f (+/-%0.03f) para los parámetros %r\" % (mean, std ** 2, params))\n",
    "    print()\n",
    "\n",
    "    print(\"Reporte de clasificación para el mejor clasificador (sobre conjunto de evaluación):\", end=\"\\n\\n\")\n",
    "    y_true, y_pred = y_test, model.predict(X_test)\n",
    "    print(classification_report(y_true, y_pred), end=\"\\n\\n\")\n",
    "    \n",
    "    print(\"================================================\", end=\"\\n\\n\")\n",
    "\n",
    "    plt.subplot(1, 3, idx)\n",
    "    plot_confusion_matrix(confusion_matrix(y_true, y_pred),\n",
    "                          classes=['0','1'], normalize=True, title=\"Matriz de confusión para %s\" % loss)"
   ]
  },
  {
   "cell_type": "markdown",
   "metadata": {},
   "source": [
    "## Ejercicio 3: Árbol de Decisión\n",
    "\n",
    "En este ejercicio se entrenarán árboles de decisión para predecir la variable objetivo.\n",
    "\n",
    "Para ello, deberán utilizar la clase DecisionTreeClassifier de scikit-learn.\n",
    "\n",
    "Documentación:\n",
    "- https://scikit-learn.org/stable/modules/tree.html\n",
    "  - https://scikit-learn.org/stable/modules/tree.html#tips-on-practical-use\n",
    "- https://scikit-learn.org/stable/modules/generated/sklearn.tree.DecisionTreeClassifier.html\n",
    "- https://scikit-learn.org/stable/auto_examples/tree/plot_unveil_tree_structure.html"
   ]
  },
  {
   "cell_type": "markdown",
   "metadata": {},
   "source": [
    "### Ejercicio 3.1: DecisionTreeClassifier con hiperparámetros por defecto\n",
    "\n",
    "Entrenar y evaluar el clasificador DecisionTreeClassifier usando los valores por omisión de scikit-learn para todos los parámetros. Únicamente **fijar la semilla aleatoria** para hacer repetible el experimento.\n",
    "\n",
    "Evaluar sobre el conjunto de **entrenamiento** y sobre el conjunto de **evaluación**, reportando:\n",
    "- Accuracy\n",
    "- Precision\n",
    "- Recall\n",
    "- F1\n",
    "- matriz de confusión\n"
   ]
  },
  {
   "cell_type": "code",
   "execution_count": 81,
   "metadata": {},
   "outputs": [
    {
     "name": "stdout",
     "output_type": "stream",
     "text": [
      "Reporte de clasificación para el mejor clasificador (sobre conjunto de evaluación):\n",
      "\n",
      "              precision    recall  f1-score   support\n",
      "\n",
      "           0       0.93      0.93      0.93       313\n",
      "           1       0.62      0.62      0.62        58\n",
      "\n",
      "    accuracy                           0.88       371\n",
      "   macro avg       0.78      0.78      0.78       371\n",
      "weighted avg       0.88      0.88      0.88       371\n",
      "\n",
      "\n",
      "================================================\n",
      "\n"
     ]
    },
    {
     "data": {
      "image/png": "[encoded data removed]",
      "text/plain": [
       "<Figure size 1120x320 with 2 Axes>"
      ]
     },
     "metadata": {},
     "output_type": "display_data"
    }
   ],
   "source": [
    "plt.figure(figsize=(14, 4), dpi= 80, facecolor='w', edgecolor='k')\n",
    "from sklearn.tree import DecisionTreeClassifier\n",
    "\n",
    "model = DecisionTreeClassifier()\n",
    "model.fit(X_train, y_train)\n",
    "\n",
    "print(\"Reporte de clasificación para el mejor clasificador (sobre conjunto de evaluación):\", end=\"\\n\\n\")\n",
    "y_true, y_pred = y_test, model.predict(X_test)\n",
    "print(classification_report(y_true, y_pred), end=\"\\n\\n\")\n",
    "\n",
    "print(\"================================================\", end=\"\\n\\n\")\n",
    "\n",
    "plt.subplot(1, 3, idx)\n",
    "plot_confusion_matrix(confusion_matrix(y_true, y_pred),\n",
    "                      classes=[0, 1], normalize=True, title=\"Matriz de confusión para DT\")"
   ]
  },
  {
   "cell_type": "markdown",
   "metadata": {},
   "source": [
    "### Ejercicio 3.2: Ajuste de Hiperparámetros\n",
    "\n",
    "Seleccionar valores para los hiperparámetros principales del DecisionTreeClassifier. Como mínimo, probar diferentes criterios de partición (criterion), profundidad máxima del árbol (max_depth), y cantidad mínima de samples por hoja (min_samples_leaf).\n",
    "\n",
    "Para ello, usar grid-search y 5-fold cross-validation sobre el conjunto de entrenamiento para explorar muchas combinaciones posibles de valores.\n",
    "\n",
    "Reportar accuracy promedio y varianza para todas las configuraciones.\n",
    "\n",
    "Para la mejor configuración encontrada, evaluar sobre el conjunto de **entrenamiento** y sobre el conjunto de **evaluación**, reportando:\n",
    "- Accuracy\n",
    "- Precision\n",
    "- Recall\n",
    "- F1\n",
    "- matriz de confusión\n",
    "\n",
    "\n",
    "Documentación:\n",
    "- https://scikit-learn.org/stable/modules/grid_search.html\n",
    "- https://scikit-learn.org/stable/modules/generated/sklearn.model_selection.GridSearchCV.html"
   ]
  },
  {
   "cell_type": "code",
   "execution_count": 95,
   "metadata": {},
   "outputs": [
    {
     "name": "stdout",
     "output_type": "stream",
     "text": [
      "# Exploración de hiperparámetros para función de coste \"perceptron\"\n",
      "\n",
      "Mejor conjunto de parámetros:\n",
      "{'criterion': 'gini', 'max_depth': 9, 'max_features': 8, 'max_leaf_nodes': 30, 'min_samples_leaf': 15, 'min_samples_split': 200}\n",
      "\n",
      "Puntajes de la grilla:\n",
      "\n",
      "Reporte de clasificación para el mejor clasificador (sobre conjunto de evaluación):\n",
      "\n",
      "              precision    recall  f1-score   support\n",
      "\n",
      "           0       0.90      0.96      0.93       313\n",
      "           1       0.63      0.41      0.50        58\n",
      "\n",
      "    accuracy                           0.87       371\n",
      "   macro avg       0.76      0.68      0.71       371\n",
      "weighted avg       0.86      0.87      0.86       371\n",
      "\n",
      "\n",
      "================================================\n",
      "\n"
     ]
    },
    {
     "data": {
      "image/png": "[encoded data removed]",
      "text/plain": [
       "<Figure size 1120x320 with 2 Axes>"
      ]
     },
     "metadata": {},
     "output_type": "display_data"
    }
   ],
   "source": [
    "plt.figure(figsize=(14, 4), dpi= 80, facecolor='w', edgecolor='k')\n",
    "from sklearn.tree import DecisionTreeClassifier\n",
    " #96-04 /  59-41\n",
    "exploring_params = {\n",
    "                'criterion':('gini', 'entropy'), \n",
    "                'min_samples_leaf':(8, 10, 15),\n",
    "                'min_samples_split':(200, 790, 900),\n",
    "                'max_leaf_nodes':(15, 20, 30),\n",
    "                'max_depth': (9, 10, 11),\n",
    "                'max_features': (3, 5, 8),\n",
    "               }\n",
    "\n",
    "\n",
    "exploring_params2 = {\n",
    "                'criterion':('gini', 'entropy'), \n",
    "                'min_samples_leaf':(8, 10, 15),\n",
    "                'min_samples_split':(200, 790, 900),\n",
    "                'max_leaf_nodes':(15, 20, 30),\n",
    "                'max_depth': (9, 10, 11, 12),\n",
    "                'max_features': (3, 5, 8, 9),\n",
    "               }\n",
    "\n",
    "\n",
    "cl = DecisionTreeClassifier()\n",
    "model = GridSearchCV(cl, exploring_params2, cv=5, scoring='accuracy')\n",
    "model.fit(X_train, y_train)\n",
    "\n",
    "print(\"# Exploración de hiperparámetros para función de coste \\\"%s\\\"\" % loss, end=\"\\n\\n\")\n",
    "\n",
    "print(\"Mejor conjunto de parámetros:\")\n",
    "print(model.best_params_, end=\"\\n\\n\")\n",
    "\n",
    "print(\"Puntajes de la grilla:\", end=\"\\n\\n\")\n",
    "means = model.cv_results_['mean_test_score']\n",
    "stds = model.cv_results_['std_test_score']\n",
    "#for mean, std, params in zip(means, stds, model.cv_results_['params']):\n",
    "    #print(\"Exactitud: %0.3f (+/-%0.03f) para los parámetros %r\" % (mean, std ** 2, params))\n",
    "#print()\n",
    "\n",
    "print(\"Reporte de clasificación para el mejor clasificador (sobre conjunto de evaluación):\", end=\"\\n\\n\")\n",
    "y_true, y_pred = y_test, model.predict(X_test)\n",
    "print(classification_report(y_true, y_pred), end=\"\\n\\n\")\n",
    "\n",
    "print(\"================================================\", end=\"\\n\\n\")\n",
    "\n",
    "plt.subplot(1, 3, idx)\n",
    "plot_confusion_matrix(confusion_matrix(y_true, y_pred),\n",
    "                      classes=['0','1'], normalize=True, title=\"Matriz de confusión para DT\")"
   ]
  },
  {
   "cell_type": "code",
   "execution_count": null,
   "metadata": {},
   "outputs": [],
   "source": []
  }
 ],
 "metadata": {
  "kernelspec": {
   "display_name": "Python 3",
   "language": "python",
   "name": "python3"
  },
  "language_info": {
   "codemirror_mode": {
    "name": "ipython",
    "version": 3
   },
   "file_extension": ".py",
   "mimetype": "text/x-python",
   "name": "python",
   "nbconvert_exporter": "python",
   "pygments_lexer": "ipython3",
   "version": "3.7.4"
  }
 },
 "nbformat": 4,
 "nbformat_minor": 2
}
